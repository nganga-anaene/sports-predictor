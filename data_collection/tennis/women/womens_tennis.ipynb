{
 "cells": [
  {
   "cell_type": "markdown",
   "id": "9b2228ee-8b70-400a-9079-709bf8d7a58a",
   "metadata": {},
   "source": [
    "## Women's Tennis Workbork"
   ]
  },
  {
   "cell_type": "code",
   "execution_count": 1,
   "id": "b9cfab01-1d9e-4bea-a83d-e8cfc3000798",
   "metadata": {
    "editable": true,
    "slideshow": {
     "slide_type": ""
    },
    "tags": []
   },
   "outputs": [],
   "source": [
    "import pandas as pd"
   ]
  },
  {
   "cell_type": "markdown",
   "id": "99353e78-a5e0-4bb3-a6a9-437e7ed2b5d8",
   "metadata": {
    "editable": true,
    "slideshow": {
     "slide_type": ""
    },
    "tags": []
   },
   "source": [
    "#### Clean Player Data"
   ]
  },
  {
   "cell_type": "code",
   "execution_count": 4,
   "id": "c1a775b6-8b0f-4850-80c6-9f5522f99d0e",
   "metadata": {
    "editable": true,
    "slideshow": {
     "slide_type": ""
    },
    "tags": []
   },
   "outputs": [
    {
     "data": {
      "text/html": [
       "<div>\n",
       "<style scoped>\n",
       "    .dataframe tbody tr th:only-of-type {\n",
       "        vertical-align: middle;\n",
       "    }\n",
       "\n",
       "    .dataframe tbody tr th {\n",
       "        vertical-align: top;\n",
       "    }\n",
       "\n",
       "    .dataframe thead th {\n",
       "        text-align: right;\n",
       "    }\n",
       "</style>\n",
       "<table border=\"1\" class=\"dataframe\">\n",
       "  <thead>\n",
       "    <tr style=\"text-align: right;\">\n",
       "      <th></th>\n",
       "      <th>ranking</th>\n",
       "      <th>points</th>\n",
       "      <th>tournamentsPlayed</th>\n",
       "      <th>movement</th>\n",
       "      <th>rankedAt</th>\n",
       "      <th>player.id</th>\n",
       "      <th>player.firstName</th>\n",
       "      <th>player.lastName</th>\n",
       "      <th>player.fullName</th>\n",
       "      <th>player.countryCode</th>\n",
       "      <th>player.dateOfBirth</th>\n",
       "      <th>player.metadata</th>\n",
       "    </tr>\n",
       "  </thead>\n",
       "  <tbody>\n",
       "    <tr>\n",
       "      <th>0</th>\n",
       "      <td>1</td>\n",
       "      <td>8990</td>\n",
       "      <td>18</td>\n",
       "      <td>0</td>\n",
       "      <td>2023-07-03T00:00:00Z</td>\n",
       "      <td>326408</td>\n",
       "      <td>Iga</td>\n",
       "      <td>Swiatek</td>\n",
       "      <td>Iga Swiatek</td>\n",
       "      <td>POL</td>\n",
       "      <td>2001-05-31</td>\n",
       "      <td>NaN</td>\n",
       "    </tr>\n",
       "    <tr>\n",
       "      <th>1</th>\n",
       "      <td>2</td>\n",
       "      <td>8066</td>\n",
       "      <td>17</td>\n",
       "      <td>0</td>\n",
       "      <td>2023-07-03T00:00:00Z</td>\n",
       "      <td>320760</td>\n",
       "      <td>Aryna</td>\n",
       "      <td>Sabalenka</td>\n",
       "      <td>Aryna Sabalenka</td>\n",
       "      <td>BLR</td>\n",
       "      <td>1998-05-05</td>\n",
       "      <td>NaN</td>\n",
       "    </tr>\n",
       "    <tr>\n",
       "      <th>2</th>\n",
       "      <td>3</td>\n",
       "      <td>5090</td>\n",
       "      <td>20</td>\n",
       "      <td>0</td>\n",
       "      <td>2023-07-03T00:00:00Z</td>\n",
       "      <td>324166</td>\n",
       "      <td>Elena</td>\n",
       "      <td>Rybakina</td>\n",
       "      <td>Elena Rybakina</td>\n",
       "      <td>KAZ</td>\n",
       "      <td>1999-06-17</td>\n",
       "      <td>NaN</td>\n",
       "    </tr>\n",
       "    <tr>\n",
       "      <th>3</th>\n",
       "      <td>4</td>\n",
       "      <td>4995</td>\n",
       "      <td>18</td>\n",
       "      <td>0</td>\n",
       "      <td>2023-07-03T00:00:00Z</td>\n",
       "      <td>316956</td>\n",
       "      <td>Jessica</td>\n",
       "      <td>Pegula</td>\n",
       "      <td>Jessica Pegula</td>\n",
       "      <td>USA</td>\n",
       "      <td>1994-02-24</td>\n",
       "      <td>NaN</td>\n",
       "    </tr>\n",
       "    <tr>\n",
       "      <th>4</th>\n",
       "      <td>5</td>\n",
       "      <td>4845</td>\n",
       "      <td>25</td>\n",
       "      <td>0</td>\n",
       "      <td>2023-07-03T00:00:00Z</td>\n",
       "      <td>315391</td>\n",
       "      <td>Caroline</td>\n",
       "      <td>Garcia</td>\n",
       "      <td>Caroline Garcia</td>\n",
       "      <td>FRA</td>\n",
       "      <td>1993-10-16</td>\n",
       "      <td>NaN</td>\n",
       "    </tr>\n",
       "  </tbody>\n",
       "</table>\n",
       "</div>"
      ],
      "text/plain": [
       "   ranking  points  tournamentsPlayed  movement              rankedAt  \\\n",
       "0        1    8990                 18         0  2023-07-03T00:00:00Z   \n",
       "1        2    8066                 17         0  2023-07-03T00:00:00Z   \n",
       "2        3    5090                 20         0  2023-07-03T00:00:00Z   \n",
       "3        4    4995                 18         0  2023-07-03T00:00:00Z   \n",
       "4        5    4845                 25         0  2023-07-03T00:00:00Z   \n",
       "\n",
       "   player.id player.firstName player.lastName  player.fullName  \\\n",
       "0     326408              Iga         Swiatek      Iga Swiatek   \n",
       "1     320760            Aryna       Sabalenka  Aryna Sabalenka   \n",
       "2     324166            Elena        Rybakina   Elena Rybakina   \n",
       "3     316956          Jessica          Pegula   Jessica Pegula   \n",
       "4     315391         Caroline          Garcia  Caroline Garcia   \n",
       "\n",
       "  player.countryCode player.dateOfBirth  player.metadata  \n",
       "0                POL         2001-05-31              NaN  \n",
       "1                BLR         1998-05-05              NaN  \n",
       "2                KAZ         1999-06-17              NaN  \n",
       "3                USA         1994-02-24              NaN  \n",
       "4                FRA         1993-10-16              NaN  "
      ]
     },
     "execution_count": 4,
     "metadata": {},
     "output_type": "execute_result"
    }
   ],
   "source": [
    "player_data_files = ['player_data_0.csv', 'player_data_1.csv']\n",
    "df = pd.concat(pd.read_csv(f, index_col=0) for f in player_data_files)\n",
    "df.head()"
   ]
  },
  {
   "cell_type": "code",
   "execution_count": null,
   "id": "c92d47cf-c17e-4d3c-9a2d-8bd7150fd16d",
   "metadata": {
    "editable": true,
    "slideshow": {
     "slide_type": ""
    },
    "tags": []
   },
   "outputs": [],
   "source": []
  }
 ],
 "metadata": {
  "kernelspec": {
   "display_name": "Python 3 (ipykernel)",
   "language": "python",
   "name": "python3"
  },
  "language_info": {
   "codemirror_mode": {
    "name": "ipython",
    "version": 3
   },
   "file_extension": ".py",
   "mimetype": "text/x-python",
   "name": "python",
   "nbconvert_exporter": "python",
   "pygments_lexer": "ipython3",
   "version": "3.9.5"
  }
 },
 "nbformat": 4,
 "nbformat_minor": 5
}
